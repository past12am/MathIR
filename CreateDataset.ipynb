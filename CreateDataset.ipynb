{
  "cells": [
    {
      "cell_type": "markdown",
      "metadata": {
        "id": "gNpYRFY6qfJW"
      },
      "source": [
        "# Setup Colab Env"
      ]
    },
    {
      "cell_type": "markdown",
      "source": [
        "## Access ARQMath on Drive"
      ],
      "metadata": {
        "id": "xDimlDyfsgo2"
      }
    },
    {
      "cell_type": "code",
      "source": [
        "from google.colab import drive\n",
        "drive.mount('/content/drive')"
      ],
      "metadata": {
        "id": "4QP8paOtqovn",
        "outputId": "7f56a11a-5793-474e-9b60-3943e02f8779",
        "colab": {
          "base_uri": "https://localhost:8080/"
        }
      },
      "execution_count": 1,
      "outputs": [
        {
          "output_type": "stream",
          "name": "stdout",
          "text": [
            "Mounted at /content/drive\n"
          ]
        }
      ]
    },
    {
      "cell_type": "code",
      "source": [
        "from os import listdir\n",
        "from os.path import join\n",
        "dirfiles = listdir(\"/content/drive/MyDrive/ARQMath/Collection/\")\n",
        "print(dirfiles)"
      ],
      "metadata": {
        "id": "JSGM3Jarqybs",
        "outputId": "7e39174f-cd8c-4a8d-84db-636d6669cc84",
        "colab": {
          "base_uri": "https://localhost:8080/"
        }
      },
      "execution_count": 6,
      "outputs": [
        {
          "output_type": "stream",
          "name": "stdout",
          "text": [
            "['PostLinks.V1.3.xml', 'Comments.V1.3.xml', 'Votes.V1.3.xml', 'Posts.V1.3.xml', 'README_DATA.md', 'Tags.V1.3.xml', 'Posts.V1.3.zip', 'Users.V1.3.xml', 'Badges.V1.3.xml', 'Old versions', 'Thread Files (supplementary)']\n"
          ]
        }
      ]
    },
    {
      "cell_type": "markdown",
      "source": [
        "## Clone git repos"
      ],
      "metadata": {
        "id": "fLONDF4Dr-ur"
      }
    },
    {
      "cell_type": "code",
      "source": [
        "!git clone https://github.com/past12am/MathIR"
      ],
      "metadata": {
        "id": "Tt65Zyk1smvR",
        "outputId": "487d7e92-4f7f-4d81-cd4e-9e21e7a9439a",
        "colab": {
          "base_uri": "https://localhost:8080/"
        }
      },
      "execution_count": 20,
      "outputs": [
        {
          "output_type": "stream",
          "name": "stdout",
          "text": [
            "fatal: destination path 'MathIR' already exists and is not an empty directory.\n"
          ]
        }
      ]
    },
    {
      "cell_type": "code",
      "source": [
        "!git clone https://github.com/ARQMath/ARQMathCode"
      ],
      "metadata": {
        "id": "wymqP7Isu8V0",
        "outputId": "261864ce-d1e8-48e8-86b1-f05f97057097",
        "colab": {
          "base_uri": "https://localhost:8080/"
        }
      },
      "execution_count": 21,
      "outputs": [
        {
          "output_type": "stream",
          "name": "stdout",
          "text": [
            "fatal: destination path 'ARQMathCode' already exists and is not an empty directory.\n"
          ]
        }
      ]
    },
    {
      "cell_type": "markdown",
      "source": [
        "# Create Dataset"
      ],
      "metadata": {
        "id": "NFb7CaR6s2MO"
      }
    },
    {
      "cell_type": "code",
      "source": [
        "import MathIR.DatasetProcessing.get_clean_json as get_clean\n",
        "\n",
        "get_clean.main(\"/content/drive/MyDrive/ARQMath/Collection/\", \"MathIR/ARQMath/data_preprocessing/\")"
      ],
      "metadata": {
        "id": "QfUDoNQ2s4m6",
        "outputId": "e24a55bd-29ee-449c-81dd-f480f9ce0315",
        "colab": {
          "base_uri": "https://localhost:8080/"
        }
      },
      "execution_count": null,
      "outputs": [
        {
          "output_type": "stream",
          "name": "stdout",
          "text": [
            "reading users\n",
            "reading comments\n"
          ]
        }
      ]
    },
    {
      "cell_type": "code",
      "source": [
        "!python MathIR/DatasetProcessing/create_aggregated_dataset MathIR/ARQMath/data_preprocessing/ MathIR/ARQMathAgg/dataset/"
      ],
      "metadata": {
        "id": "Ap3WRLRouAw6",
        "outputId": "27a44ef9-18c9-4966-8232-35ad7151d0b5",
        "colab": {
          "base_uri": "https://localhost:8080/"
        }
      },
      "execution_count": 23,
      "outputs": [
        {
          "output_type": "stream",
          "name": "stdout",
          "text": [
            "python3: can't open file '/content/MathIR/DatasetProcessing/create_aggregated_dataset': [Errno 2] No such file or directory\n"
          ]
        }
      ]
    }
  ],
  "metadata": {
    "language_info": {
      "name": "python"
    },
    "colab": {
      "provenance": []
    },
    "kernelspec": {
      "name": "python3",
      "display_name": "Python 3"
    }
  },
  "nbformat": 4,
  "nbformat_minor": 0
}